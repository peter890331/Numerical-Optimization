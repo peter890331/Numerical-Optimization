{
  "cells": [
    {
      "cell_type": "markdown",
      "id": "894384f9",
      "metadata": {
        "id": "894384f9"
      },
      "source": [
        "# Numerical Optimization (CS215300) Assignment 3\n",
        "## Introduction\n",
        "In this assignment, we expect you to be able to solve constrained optimization problem by Scipy library. We want you to apply two algorithms on the following problem as a benchmark, survey the methods used in these libraries, and analyze the behavior of these algorithms.\n",
        "The library document link: https://docs.scipy.org/doc/scipy/reference/generated/scipy.optimize.minimize.html\n",
        "\n",
        "## Task\n",
        "1. (20%) Solve the following problrem by using **trust-constr** method:\n",
        "$$\\begin{array}{lll}\n",
        "        \\min_{x_1,x_2} & f(x_1,x_2)=-x_1-x_2 \\\\\n",
        "        \\mbox{s.t. } & -2x_1^4 + 8x_1^3 -8x_1^2 + x_2 - 2 \\le 0  \\\\\n",
        "         & -4x_1^4 + 32x_1^3 - 88x_1^2 + 96x_1 + x_2 -36 \\le 0   \\\\\n",
        "         & 0 \\le x_1 \\le 3 \\\\\n",
        "         & 0 \\le x_2 \\le 4 \\\\\n",
        "\\end{array}$$\n",
        "2. (20%) Use **COBYLA** method to solve the same problem.\n",
        "3. (15%) For the above two algorithms, please include the calculation process in markdown style before your code cells.\n",
        "4. (5%) Provide the Jacobian and Hessian function in matrix form in markdown style.\n",
        "5. (40%) In your report, please read the paper cited in the libraries, which gives the details of the algorithms. Write an introduction of the algorithms, and compare their behaviors in this benchmark. You are not necessarily to read the original paper, other resourses (ex. slides from other schools or surveys) are also acceptable. Please include the link or paper name in your reference if you referred to other resources.\n",
        "6. Rename this notebook file by adding your student ID and upload it to eeclass platform. (ex. hw3_110xxxxxx.ipynb)"
      ]
    },
    {
      "cell_type": "code",
      "execution_count": null,
      "id": "76c364c0",
      "metadata": {
        "id": "76c364c0"
      },
      "outputs": [],
      "source": [
        "%matplotlib inline\n",
        "import matplotlib.pyplot as plt\n",
        "import numpy as np"
      ]
    },
    {
      "cell_type": "code",
      "execution_count": null,
      "id": "ea454f92",
      "metadata": {
        "id": "ea454f92"
      },
      "outputs": [],
      "source": [
        "from scipy.optimize import Bounds\n",
        "from scipy.optimize import NonlinearConstraint"
      ]
    },
    {
      "cell_type": "markdown",
      "id": "21f49385",
      "metadata": {
        "id": "21f49385"
      },
      "source": [
        "### Define objective function"
      ]
    },
    {
      "cell_type": "markdown",
      "source": [
        "將題目的$f(x_1, x_2)=x_1+x_2$寫入f(x)的函式，也就是return -x[0]-x[1]，或直接return -sum[x]也可。"
      ],
      "metadata": {
        "id": "9SgPzASkHK5Y"
      },
      "id": "9SgPzASkHK5Y"
    },
    {
      "cell_type": "code",
      "execution_count": null,
      "id": "908e2508",
      "metadata": {
        "id": "908e2508"
      },
      "outputs": [],
      "source": [
        "def f(x):\n",
        "    # TODO\n",
        "    return -x[0]-x[1]"
      ]
    },
    {
      "cell_type": "markdown",
      "id": "a248684d",
      "metadata": {
        "id": "a248684d"
      },
      "source": [
        "### Define constraint functions and derivatives\n",
        "Note: Please do not use sparse matrices."
      ]
    },
    {
      "cell_type": "markdown",
      "source": [
        "將題目的兩條constraint寫進cons_f(x)的函式，也就是return $\\begin{bmatrix}-2x_1^4 + 8x_1^3 -8x_1^2 + x_2 - 2 \\\\\n",
        "-4x_1^4 + 32x_1^3 - 88x_1^2 + 96x_1 + x_2 -36\n",
        "\\end{bmatrix}$\n",
        "\n",
        "再經過手動計算出其一次導數的Jacobian寫進cons_Jacobian(x)的函式，也就是return $\\begin{bmatrix} -8x_1^3+24x_1^2 -16x_1 && 1 \\\\ -16x_1^3+96x_1^2-176x_1+96 && 1\\end{bmatrix}$\n",
        "\n",
        "再經過手動計算出其二次導數的Hessian寫進cons_Hessian(x, v)的函式，也就是return\n",
        "$v_1\n",
        "\\begin{bmatrix} -24x_1^2+48x_1 -16 && 0 \\\\ 0 && 0 \\end{bmatrix}\n",
        "+v_2\n",
        "\\begin{bmatrix}  -48x_1^2+192x_1-176 && 0 \\\\ 0 && 0 \\end{bmatrix}$,\n",
        "\n",
        "其中$v_1$ 和 $v_2$ 是 拉格朗日乘數(Lagrange multipliers)"
      ],
      "metadata": {
        "id": "YdlT0IfbIUPH"
      },
      "id": "YdlT0IfbIUPH"
    },
    {
      "cell_type": "code",
      "execution_count": null,
      "id": "193a8cdb",
      "metadata": {
        "id": "193a8cdb"
      },
      "outputs": [],
      "source": [
        "# TODO: derive and define the functions\n",
        "def cons_f(x):\n",
        "    # TODO\n",
        "    return [-2.*x[0]**4 + 8.*x[0]**3 - 8.*x[0]**2 + x[1] - 2, -4.*x[0]**4 + 32.*x[0]**3 - 88.*x[0]**2 + 96.*x[0] + x[1] - 36]\n",
        "    \n",
        "def cons_Jacobian(x):\n",
        "    # TODO\n",
        "    return np.array([[-8.*x[0]**3 + 24.*x[0]**2 - 16.*x[0], 1], [-16.*x[0]**3 + 96.*x[0]**2 - 176.*x[0] + 96, 1]])\n",
        "\n",
        "def cons_Hessian(x, v):\n",
        "    # TODO\n",
        "    return v[0]*np.array([[-24.*x[0]**2 + 48.*x[0] - 16, 0], [0, 0]]) + v[1]*np.array([[-48.*x[0]**2 + 192.*x[0] - 176, 0], [0, 0]])\n",
        "\n",
        "# TODO: Insert the functions above into a NonlinearConstraint obeject\n",
        "nonlinear_constraint = NonlinearConstraint(cons_f, -np.inf, 0, jac=cons_Jacobian, hess=cons_Hessian)"
      ]
    },
    {
      "cell_type": "markdown",
      "source": [
        "參考自：https://stackoverflow.com/questions/69839367/nonlinearconstraints-in-scipy-optimize 和 https://scipy.github.io/devdocs/tutorial/optimize.html#trust-region-constrained-algorithm-method-trust-constr"
      ],
      "metadata": {
        "id": "vTZaqpDyRDPY"
      },
      "id": "vTZaqpDyRDPY"
    },
    {
      "cell_type": "markdown",
      "id": "057a3b50",
      "metadata": {
        "id": "057a3b50"
      },
      "source": [
        "### Define the bounds "
      ]
    },
    {
      "cell_type": "markdown",
      "source": [
        "使用Bounds函數建立$x_1$和$x_2$的邊界，而在Bounds函數上下界限的排列中，經過網路查詢好像有將\n",
        "$0 \\le x_1 \\le 3 \\\\\\\\\n",
        "0 \\le x_2 \\le 4 $，\n",
        "\n",
        "寫作Bounds([0, 0], [3, 4])和Bounds([0, 3], [0, 4])的兩個版本，但我最終選擇採信下方參考資料來源的版本。"
      ],
      "metadata": {
        "id": "MOcE1F3gKV__"
      },
      "id": "MOcE1F3gKV__"
    },
    {
      "cell_type": "code",
      "execution_count": null,
      "id": "2c0b7092",
      "metadata": {
        "id": "2c0b7092"
      },
      "outputs": [],
      "source": [
        "# TODO: define the bounds\n",
        "bounds = Bounds([0, 0], [3, 4])"
      ]
    },
    {
      "cell_type": "code",
      "source": [
        "bounds"
      ],
      "metadata": {
        "colab": {
          "base_uri": "https://localhost:8080/"
        },
        "id": "8vOnh01PPzkS",
        "outputId": "47bb4c80-29ed-44b0-8671-388999d38bfb"
      },
      "id": "8vOnh01PPzkS",
      "execution_count": null,
      "outputs": [
        {
          "output_type": "execute_result",
          "data": {
            "text/plain": [
              "Bounds(array([0, 0]), array([3, 4]))"
            ]
          },
          "metadata": {},
          "execution_count": 361
        }
      ]
    },
    {
      "cell_type": "markdown",
      "source": [
        "參考自：https://scipy.github.io/devdocs/tutorial/optimize.html#trust-region-constrained-algorithm-method-trust-constr"
      ],
      "metadata": {
        "id": "y9IHG7mDNlvp"
      },
      "id": "y9IHG7mDNlvp"
    },
    {
      "cell_type": "markdown",
      "id": "a03b1a98",
      "metadata": {
        "id": "a03b1a98"
      },
      "source": [
        "### Call the minimize library"
      ]
    },
    {
      "cell_type": "markdown",
      "source": [
        "此處先import欲使用到的scipy.optimize函式庫，並執行初始化，\n",
        "\n",
        "因為trust-constr方法會使用到Jacobian和Hessian matrix，所以照理說兩者應都需設定初始條件，但經過實際測試後，好像只設定Hessian的初始條件也可運作。\n",
        "\n",
        "最後將所有參數設定進要使用的優化函數中，其參數包含題目function、initial guess、欲使用的trust-constr方法、Hessian matrix的初始條件、$\\vec x$ 的邊界限制，和含有Jacobian與Hessian matrix的兩條constraint條件。\n",
        "\n",
        "而initial guess的部分，我是隨意將其設定在[0, 0]。"
      ],
      "metadata": {
        "id": "vBUr_C0GLUNm"
      },
      "id": "vBUr_C0GLUNm"
    },
    {
      "cell_type": "code",
      "execution_count": null,
      "id": "9439bc43",
      "metadata": {
        "id": "9439bc43"
      },
      "outputs": [],
      "source": [
        "# TODO: define initial point\n",
        "from scipy.optimize import minimize\n",
        "def H0(x):\n",
        "    return np.array([[0, 0], [0, 0]])\n",
        "\n",
        "x0 = np.array([0, 0])\n",
        "\n",
        "min_trust_constr = minimize(f, x0, method='trust-constr', hess = H0, bounds = bounds, constraints = [nonlinear_constraint])"
      ]
    },
    {
      "cell_type": "markdown",
      "id": "e96a8225",
      "metadata": {
        "id": "e96a8225"
      },
      "source": [
        "### Print out the result you get"
      ]
    },
    {
      "cell_type": "markdown",
      "source": [
        "最終顯示$\\vec x$ 的收斂結果，分別print出$x_1$和$x_2$的位置、$f(\\vec x)$的值和兩條constraint的結果，用以觀察是否符合條件。"
      ],
      "metadata": {
        "id": "GBwHqaNaNKkF"
      },
      "id": "GBwHqaNaNKkF"
    },
    {
      "cell_type": "code",
      "execution_count": null,
      "id": "b38ec278",
      "metadata": {
        "id": "b38ec278",
        "colab": {
          "base_uri": "https://localhost:8080/"
        },
        "outputId": "f7a2ae58-8ea1-47a6-f4d2-e45e5701050d"
      },
      "outputs": [
        {
          "output_type": "stream",
          "name": "stdout",
          "text": [
            "x = [0.61157004 3.44188615]\n",
            "f(x) = -4.053456193162767\n",
            "constraint_1 = -0.00013076744813034225\n",
            "constraint_2 = -0.0009031285439107251\n",
            "---------------------------------------------\n",
            " barrier_parameter: 0.00016000000000000007\n",
            " barrier_tolerance: 0.00016000000000000007\n",
            "          cg_niter: 12\n",
            "      cg_stop_cond: 4\n",
            "            constr: [array([-0.00013077, -0.00090313]), array([0.61157004, 3.44188615])]\n",
            "       constr_nfev: [13, 0]\n",
            "       constr_nhev: [17, 0]\n",
            "       constr_njev: [12, 0]\n",
            "    constr_penalty: 1.0\n",
            "  constr_violation: 0.0\n",
            "    execution_time: 0.028287172317504883\n",
            "               fun: -4.053456193162767\n",
            "              grad: array([-1.        , -1.00000001])\n",
            "               jac: [array([[-2.63859589,  1.        ],\n",
            "       [20.60958198,  1.        ]]), array([[1., 0.],\n",
            "       [0., 1.]])]\n",
            "   lagrangian_grad: array([4.46148586e-10, 7.67958032e-09])\n",
            "           message: '`gtol` termination condition is satisfied.'\n",
            "            method: 'tr_interior_point'\n",
            "              nfev: 37\n",
            "              nhev: 12\n",
            "               nit: 17\n",
            "             niter: 17\n",
            "              njev: 12\n",
            "        optimality: 7.679580316908045e-09\n",
            "            status: 1\n",
            "           success: True\n",
            "         tr_radius: 3500.0000000000005\n",
            "                 v: [array([0.84326772, 0.15649213]), array([-0.00019463,  0.00024017])]\n",
            "                 x: array([0.61157004, 3.44188615])\n"
          ]
        }
      ],
      "source": [
        "print('x = '+str(min_trust_constr.x))\n",
        "print('f(x) = '+str(f(min_trust_constr.x)))\n",
        "print('constraint_1 = '+str(-2.*min_trust_constr.x[0]**4 + 8.*min_trust_constr.x[0]**3 - 8.*min_trust_constr.x[0]**2 + min_trust_constr.x[1] - 2))\n",
        "print('constraint_2 = '+str(-4.*min_trust_constr.x[0]**4 + 32.*min_trust_constr.x[0]**3 - 88.*min_trust_constr.x[0]**2 + 96.*min_trust_constr.x[0] + min_trust_constr.x[1] - 36))\n",
        "print('---------------------------------------------')\n",
        "print(min_trust_constr)"
      ]
    },
    {
      "cell_type": "markdown",
      "id": "62bd5cee",
      "metadata": {
        "id": "62bd5cee"
      },
      "source": [
        "### Apply COBYLA method"
      ]
    },
    {
      "cell_type": "markdown",
      "source": [
        "接下來是COBYLA方法的測試，此處先import欲使用到的scipy.optimize函式庫，\n",
        "\n",
        "並因為COBYLA方法不需使用到Jacobian和Hessian matrix，所以不用進行兩矩陣的初始化，可直接設定優化函數中的參數，\n",
        "\n",
        "其參數包含題目function、initial guess、欲使用的COBYLA方法、$\\vec x$ 的邊界限制，和兩條constraint條件，\n",
        "\n",
        "另外我還加入了tolerance的設定，因COBYLA方法在scipy.optimize中，預設的tol=none，且catol=0.0002，為確保誤差接受標準與trust-constr方法一致，所以我將其都設定為1e-8。"
      ],
      "metadata": {
        "id": "Ss5vW3zkN4wd"
      },
      "id": "Ss5vW3zkN4wd"
    },
    {
      "cell_type": "code",
      "execution_count": null,
      "id": "82b7e7f0",
      "metadata": {
        "id": "82b7e7f0"
      },
      "outputs": [],
      "source": [
        "# TODO\n",
        "from scipy.optimize import minimize\n",
        "\n",
        "x0 = np.array([0, 1])\n",
        "\n",
        "min_trust_COBYLA = minimize(f, x0, method='COBYLA', bounds = bounds, constraints = [nonlinear_constraint], tol = 1e-8, options={'catol': 1e-8})"
      ]
    },
    {
      "cell_type": "markdown",
      "source": [
        "最終顯示$\\vec x$ 的收斂結果，分別print出$x_1$和$x_2$的位置、$f(\\vec x)$的值和兩條constraint的結果，用以觀察是否符合條件。"
      ],
      "metadata": {
        "id": "R79vqj-QPJg-"
      },
      "id": "R79vqj-QPJg-"
    },
    {
      "cell_type": "code",
      "source": [
        "print('x = '+str(min_trust_COBYLA.x))\n",
        "print('f(x) = '+str(f(min_trust_COBYLA.x)))\n",
        "print('constraint_1 = '+str(-2.*min_trust_COBYLA.x[0]**4 + 8.*min_trust_COBYLA.x[0]**3 - 8.*min_trust_COBYLA.x[0]**2 + min_trust_COBYLA.x[1] - 2))\n",
        "print('constraint_2 = '+str(-4.*min_trust_COBYLA.x[0]**4 + 32.*min_trust_COBYLA.x[0]**3 - 88.*min_trust_COBYLA.x[0]**2 + 96.*min_trust_COBYLA.x[0] + min_trust_COBYLA.x[1] - 36)+' <--(已小於tol，可視為0)')\n",
        "print('---------------------------------------------')\n",
        "print(min_trust_COBYLA)"
      ],
      "metadata": {
        "colab": {
          "base_uri": "https://localhost:8080/"
        },
        "id": "FD__6p-0T6IQ",
        "outputId": "ff89fb51-c9fa-45d6-ea22-e4b06ef21b2a"
      },
      "id": "FD__6p-0T6IQ",
      "execution_count": null,
      "outputs": [
        {
          "output_type": "stream",
          "name": "stdout",
          "text": [
            "x = [0.61160327 3.44210458]\n",
            "f(x) = -4.053707848201464\n",
            "constraint_1 = -2.220446049250313e-15\n",
            "constraint_2 = 4.263256414560601e-14 <--(已小於tol，可視為0)\n",
            "---------------------------------------------\n",
            "     fun: -4.053707848201464\n",
            "   maxcv: 4.263256414560601e-14\n",
            " message: 'Optimization terminated successfully.'\n",
            "    nfev: 31\n",
            "  status: 1\n",
            " success: True\n",
            "       x: array([0.61160327, 3.44210458])\n"
          ]
        }
      ]
    },
    {
      "cell_type": "markdown",
      "source": [
        "最終結果顯示，其第二條constraint約為$4.2^{-14}$，不符合題目$\\le 0$的條件，但因tolerance設定為$1^{-8}$，所以可視為$=0$。"
      ],
      "metadata": {
        "id": "8XHsTATNPVg9"
      },
      "id": "8XHsTATNPVg9"
    },
    {
      "cell_type": "markdown",
      "id": "a07591de",
      "metadata": {
        "id": "a07591de"
      },
      "source": [
        "## Report"
      ]
    },
    {
      "cell_type": "markdown",
      "source": [
        "The trust-region constrained method(信賴域算法)，使用Interior point method來解決優化問題，是一種通用的限制優化方法，無論equality-constraint或inequality-constraints皆可使用，且適合處理大規模問題。\n",
        "\n",
        "COBYLA是Constrained Optimization BY Linear Approximation的縮寫，是一種線性近似限制優化方法，通過對目標函數和限制條件的線性逼近處理非線性問題。且只使用目標函數，不需要Jacobian(導數)或Hessian(二階導數)。\n",
        "\n",
        "參考自：https://inf.news/zh-hant/technique/62d5c131511c2aa7668caac0db2c0eaa.html\n",
        "\n"
      ],
      "metadata": {
        "id": "gKFrGCXRmg3j"
      },
      "id": "gKFrGCXRmg3j"
    },
    {
      "cell_type": "markdown",
      "source": [
        "在本次實作中，\n",
        "\n",
        "trust-constr在使用initial guess為$[0, 0]$時，$\\vec x$ 最終可以收斂在$[0.61157004 3.44188615]$的位置，此時$f(\\vec x)=-4.053456193162767$，且$\\vec x$ 同時也滿足兩條constraint，皆為$<0$。\n",
        "\n",
        "而COBYLA在使用initial guess為$[0, 1]$時，$\\vec x$ 最終可以收斂在$[0.61160327 3.44210458]$的位置，此時$f(\\vec x)=-4.053707848201464$，且$\\vec x$ 同時也滿足兩條constraint，constraint_1為$<0$，constraint_2為已小於tolerance的正數，也可視為$=0$。\n",
        "\n",
        "將兩種方法的結果比較過後，trust-constr找到的找到的$f(\\vec x)$較小，也就是$\\vec x$ 會較為準確。"
      ],
      "metadata": {
        "id": "ZWysICmd2b-N"
      },
      "id": "ZWysICmd2b-N"
    },
    {
      "cell_type": "markdown",
      "source": [
        "$c_1(\\overset\\rightharpoonup x) = -2x_1^4 + 8x_1^3 -8x_1^2 + x_2 - 2$\n",
        "\n",
        "$c_2(\\overset\\rightharpoonup x) = -4x_1^4 + 32x_1^3 - 88x_1^2 + 96x_1 + x_2 -36$\n",
        "\n",
        "----\n",
        "\n",
        "$Jacobain = \\begin{bmatrix}\n",
        "\\frac {\\partial c_1(\\overset\\rightharpoonup x)}{\\partial x_1} && \\frac {\\partial c_1(\\overset\\rightharpoonup x)}{\\partial x_2} \\\\ \\frac {\\partial c_2(\\overset\\rightharpoonup x)}{\\partial x_1} && \\frac {\\partial c_2(\\overset\\rightharpoonup x)}{\\partial x_2}\n",
        "\\end{bmatrix}\n",
        "= \n",
        "\\begin{bmatrix} -8x_1^3+24x_1^2 -16x_1 && 1 \\\\ -16x_1^3+96x_1^2-176x_1+96 && 1\\end{bmatrix}$\n",
        "\n",
        "----\n",
        "\n",
        "$Hessian = v_1\n",
        "\\begin{bmatrix}\n",
        "\\frac {\\partial^2 c_1(\\overset\\rightharpoonup x)}{\\partial x_1^2} && \\frac {\\partial^2 c_1(\\overset\\rightharpoonup x)}{\\partial x_1\\partial x_2} \\\\ \\frac {\\partial^2 c_1(\\overset\\rightharpoonup x)}{\\partial x_1\\partial x_2} && \\frac {\\partial^2 c_1(\\overset\\rightharpoonup x)}{\\partial x_2^2}\\end{bmatrix}\n",
        "+v_2\n",
        "\\begin{bmatrix}\n",
        "\\frac {\\partial^2 c_2(\\overset\\rightharpoonup x)}{\\partial x_1^2} && \\frac {\\partial^2 c_2(\\overset\\rightharpoonup x)}{\\partial x_1\\partial x_2} \\\\ \\frac {\\partial^2 c_2(\\overset\\rightharpoonup x)}{\\partial x_1\\partial x_2} && \\frac {\\partial^2 c_2(\\overset\\rightharpoonup x)}{\\partial x_2^2}\\end{bmatrix}$\n",
        "\n",
        "=\n",
        "$v_1\n",
        "\\begin{bmatrix} -24x_1^2+48x_1 -16 && 0 \\\\ 0 && 0 \\end{bmatrix}\n",
        "+v_2\n",
        "\\begin{bmatrix}  -48x_1^2+192x_1-176 && 0 \\\\ 0 && 0 \\end{bmatrix}$，\n",
        "\n",
        "其中$v_1$ 和 $v_2$ 是 拉格朗日乘數(Lagrange multipliers)."
      ],
      "metadata": {
        "id": "nRssuhFMcAfd"
      },
      "id": "nRssuhFMcAfd"
    }
  ],
  "metadata": {
    "kernelspec": {
      "display_name": "Python 3",
      "language": "python",
      "name": "python3"
    },
    "language_info": {
      "codemirror_mode": {
        "name": "ipython",
        "version": 3
      },
      "file_extension": ".py",
      "mimetype": "text/x-python",
      "name": "python",
      "nbconvert_exporter": "python",
      "pygments_lexer": "ipython3",
      "version": "3.7.11"
    },
    "colab": {
      "provenance": []
    }
  },
  "nbformat": 4,
  "nbformat_minor": 5
}